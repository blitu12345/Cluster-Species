{
 "cells": [
  {
   "cell_type": "code",
   "execution_count": 85,
   "metadata": {
    "collapsed": false
   },
   "outputs": [],
   "source": [
    "### importing libraries\n",
    "import numpy as np\n",
    "import warnings\n",
    "import pandas as pd\n",
    "import matplotlib.pyplot as plt\n",
    "import matplotlib.cm as cm\n",
    "from pandas.tools.plotting import parallel_coordinates\n",
    "from sklearn.decomposition import PCA\n",
    "from sklearn.preprocessing import scale\n",
    "from sklearn.manifold import TSNE\n",
    "from sklearn.cluster import KMeans,SpectralClustering,DBSCAN\n",
    "from scipy.cluster.hierarchy import dendrogram, linkage,fcluster\n",
    "from sklearn.metrics import silhouette_samples,silhouette_score\n",
    "%matplotlib inline\n",
    "warnings.filterwarnings('ignore')"
   ]
  },
  {
   "cell_type": "code",
   "execution_count": 86,
   "metadata": {
    "collapsed": false
   },
   "outputs": [
    {
     "data": {
      "text/html": [
       "<div>\n",
       "<table border=\"1\" class=\"dataframe\">\n",
       "  <thead>\n",
       "    <tr style=\"text-align: right;\">\n",
       "      <th></th>\n",
       "      <th>entrez</th>\n",
       "      <th>symbol</th>\n",
       "      <th>S1</th>\n",
       "      <th>S2</th>\n",
       "      <th>S3</th>\n",
       "      <th>S4</th>\n",
       "      <th>S5</th>\n",
       "      <th>S6</th>\n",
       "      <th>S7</th>\n",
       "      <th>S8</th>\n",
       "      <th>...</th>\n",
       "      <th>S21</th>\n",
       "      <th>S22</th>\n",
       "      <th>S23</th>\n",
       "      <th>S24</th>\n",
       "      <th>S25</th>\n",
       "      <th>S26</th>\n",
       "      <th>S27</th>\n",
       "      <th>S28</th>\n",
       "      <th>S29</th>\n",
       "      <th>S30</th>\n",
       "    </tr>\n",
       "  </thead>\n",
       "  <tbody>\n",
       "    <tr>\n",
       "      <th>0</th>\n",
       "      <td>14679</td>\n",
       "      <td>Gnai3</td>\n",
       "      <td>7.985282</td>\n",
       "      <td>8.654102</td>\n",
       "      <td>7.851483</td>\n",
       "      <td>9.427284</td>\n",
       "      <td>8.484089</td>\n",
       "      <td>8.430295</td>\n",
       "      <td>8.785142</td>\n",
       "      <td>8.234337</td>\n",
       "      <td>...</td>\n",
       "      <td>8.988352</td>\n",
       "      <td>8.861340</td>\n",
       "      <td>8.698631</td>\n",
       "      <td>8.214616</td>\n",
       "      <td>8.933242</td>\n",
       "      <td>8.523217</td>\n",
       "      <td>8.263034</td>\n",
       "      <td>8.442125</td>\n",
       "      <td>8.683792</td>\n",
       "      <td>8.148272</td>\n",
       "    </tr>\n",
       "    <tr>\n",
       "      <th>1</th>\n",
       "      <td>54192</td>\n",
       "      <td>Pbsn</td>\n",
       "      <td>4.402777</td>\n",
       "      <td>4.402777</td>\n",
       "      <td>4.402777</td>\n",
       "      <td>4.402777</td>\n",
       "      <td>4.402777</td>\n",
       "      <td>4.402777</td>\n",
       "      <td>4.402777</td>\n",
       "      <td>4.402777</td>\n",
       "      <td>...</td>\n",
       "      <td>4.402777</td>\n",
       "      <td>4.402777</td>\n",
       "      <td>4.402777</td>\n",
       "      <td>4.402777</td>\n",
       "      <td>4.402777</td>\n",
       "      <td>4.402777</td>\n",
       "      <td>4.402777</td>\n",
       "      <td>4.402777</td>\n",
       "      <td>4.402777</td>\n",
       "      <td>4.402777</td>\n",
       "    </tr>\n",
       "    <tr>\n",
       "      <th>2</th>\n",
       "      <td>12544</td>\n",
       "      <td>Cdc45</td>\n",
       "      <td>5.342660</td>\n",
       "      <td>5.621617</td>\n",
       "      <td>5.894139</td>\n",
       "      <td>5.530200</td>\n",
       "      <td>5.953490</td>\n",
       "      <td>5.800456</td>\n",
       "      <td>5.750067</td>\n",
       "      <td>5.763297</td>\n",
       "      <td>...</td>\n",
       "      <td>5.066617</td>\n",
       "      <td>5.199745</td>\n",
       "      <td>5.207598</td>\n",
       "      <td>5.158604</td>\n",
       "      <td>4.773268</td>\n",
       "      <td>5.028918</td>\n",
       "      <td>5.392552</td>\n",
       "      <td>5.014560</td>\n",
       "      <td>5.372466</td>\n",
       "      <td>5.033642</td>\n",
       "    </tr>\n",
       "    <tr>\n",
       "      <th>3</th>\n",
       "      <td>107815</td>\n",
       "      <td>Scml2</td>\n",
       "      <td>4.720995</td>\n",
       "      <td>5.129361</td>\n",
       "      <td>5.017464</td>\n",
       "      <td>5.126493</td>\n",
       "      <td>5.137191</td>\n",
       "      <td>5.081444</td>\n",
       "      <td>4.804693</td>\n",
       "      <td>4.402777</td>\n",
       "      <td>...</td>\n",
       "      <td>4.402777</td>\n",
       "      <td>4.402777</td>\n",
       "      <td>4.402777</td>\n",
       "      <td>4.402777</td>\n",
       "      <td>4.402777</td>\n",
       "      <td>4.402777</td>\n",
       "      <td>4.402777</td>\n",
       "      <td>4.402777</td>\n",
       "      <td>4.402777</td>\n",
       "      <td>4.402777</td>\n",
       "    </tr>\n",
       "    <tr>\n",
       "      <th>4</th>\n",
       "      <td>11818</td>\n",
       "      <td>Apoh</td>\n",
       "      <td>4.402777</td>\n",
       "      <td>4.402777</td>\n",
       "      <td>4.402777</td>\n",
       "      <td>4.402777</td>\n",
       "      <td>4.402777</td>\n",
       "      <td>4.402777</td>\n",
       "      <td>4.402777</td>\n",
       "      <td>4.402777</td>\n",
       "      <td>...</td>\n",
       "      <td>4.402777</td>\n",
       "      <td>4.402777</td>\n",
       "      <td>4.402777</td>\n",
       "      <td>4.402777</td>\n",
       "      <td>4.402777</td>\n",
       "      <td>4.402777</td>\n",
       "      <td>4.402777</td>\n",
       "      <td>4.402777</td>\n",
       "      <td>4.402777</td>\n",
       "      <td>4.402777</td>\n",
       "    </tr>\n",
       "  </tbody>\n",
       "</table>\n",
       "<p>5 rows × 32 columns</p>\n",
       "</div>"
      ],
      "text/plain": [
       "   entrez symbol        S1        S2        S3        S4        S5        S6  \\\n",
       "0   14679  Gnai3  7.985282  8.654102  7.851483  9.427284  8.484089  8.430295   \n",
       "1   54192   Pbsn  4.402777  4.402777  4.402777  4.402777  4.402777  4.402777   \n",
       "2   12544  Cdc45  5.342660  5.621617  5.894139  5.530200  5.953490  5.800456   \n",
       "3  107815  Scml2  4.720995  5.129361  5.017464  5.126493  5.137191  5.081444   \n",
       "4   11818   Apoh  4.402777  4.402777  4.402777  4.402777  4.402777  4.402777   \n",
       "\n",
       "         S7        S8    ...          S21       S22       S23       S24  \\\n",
       "0  8.785142  8.234337    ...     8.988352  8.861340  8.698631  8.214616   \n",
       "1  4.402777  4.402777    ...     4.402777  4.402777  4.402777  4.402777   \n",
       "2  5.750067  5.763297    ...     5.066617  5.199745  5.207598  5.158604   \n",
       "3  4.804693  4.402777    ...     4.402777  4.402777  4.402777  4.402777   \n",
       "4  4.402777  4.402777    ...     4.402777  4.402777  4.402777  4.402777   \n",
       "\n",
       "        S25       S26       S27       S28       S29       S30  \n",
       "0  8.933242  8.523217  8.263034  8.442125  8.683792  8.148272  \n",
       "1  4.402777  4.402777  4.402777  4.402777  4.402777  4.402777  \n",
       "2  4.773268  5.028918  5.392552  5.014560  5.372466  5.033642  \n",
       "3  4.402777  4.402777  4.402777  4.402777  4.402777  4.402777  \n",
       "4  4.402777  4.402777  4.402777  4.402777  4.402777  4.402777  \n",
       "\n",
       "[5 rows x 32 columns]"
      ]
     },
     "execution_count": 86,
     "metadata": {},
     "output_type": "execute_result"
    }
   ],
   "source": [
    "### explore data\n",
    "df = pd.read_csv('Species_Data.csv')\n",
    "df.head()"
   ]
  },
  {
   "cell_type": "code",
   "execution_count": 87,
   "metadata": {
    "collapsed": false
   },
   "outputs": [
    {
     "data": {
      "text/html": [
       "<div>\n",
       "<table border=\"1\" class=\"dataframe\">\n",
       "  <thead>\n",
       "    <tr style=\"text-align: right;\">\n",
       "      <th>symbol</th>\n",
       "      <th>Gnai3</th>\n",
       "      <th>Pbsn</th>\n",
       "      <th>Cdc45</th>\n",
       "      <th>Scml2</th>\n",
       "      <th>Apoh</th>\n",
       "      <th>Narf</th>\n",
       "      <th>Cav2</th>\n",
       "      <th>Klf6</th>\n",
       "      <th>Scmh1</th>\n",
       "      <th>Cox5a</th>\n",
       "      <th>...</th>\n",
       "      <th>Usp39</th>\n",
       "      <th>Pcdha4</th>\n",
       "      <th>Pcdha7</th>\n",
       "      <th>LOC105243855</th>\n",
       "      <th>Gm34240</th>\n",
       "      <th>Pcdhga3</th>\n",
       "      <th>Gm20750</th>\n",
       "      <th>4932431L22Rik</th>\n",
       "      <th>Rhbg</th>\n",
       "      <th>Mat2a</th>\n",
       "    </tr>\n",
       "  </thead>\n",
       "  <tbody>\n",
       "    <tr>\n",
       "      <th>S1</th>\n",
       "      <td>7.985282</td>\n",
       "      <td>4.402777</td>\n",
       "      <td>5.342660</td>\n",
       "      <td>4.720995</td>\n",
       "      <td>4.402777</td>\n",
       "      <td>6.996224</td>\n",
       "      <td>6.746448</td>\n",
       "      <td>11.632144</td>\n",
       "      <td>6.152779</td>\n",
       "      <td>8.335453</td>\n",
       "      <td>...</td>\n",
       "      <td>4.402777</td>\n",
       "      <td>4.402777</td>\n",
       "      <td>4.402777</td>\n",
       "      <td>4.402777</td>\n",
       "      <td>4.402777</td>\n",
       "      <td>4.720995</td>\n",
       "      <td>4.402777</td>\n",
       "      <td>4.402777</td>\n",
       "      <td>4.402777</td>\n",
       "      <td>4.402777</td>\n",
       "    </tr>\n",
       "    <tr>\n",
       "      <th>S2</th>\n",
       "      <td>8.654102</td>\n",
       "      <td>4.402777</td>\n",
       "      <td>5.621617</td>\n",
       "      <td>5.129361</td>\n",
       "      <td>4.402777</td>\n",
       "      <td>7.205572</td>\n",
       "      <td>6.653430</td>\n",
       "      <td>11.641439</td>\n",
       "      <td>6.020570</td>\n",
       "      <td>8.370482</td>\n",
       "      <td>...</td>\n",
       "      <td>4.402777</td>\n",
       "      <td>4.402777</td>\n",
       "      <td>4.402777</td>\n",
       "      <td>4.402777</td>\n",
       "      <td>4.402777</td>\n",
       "      <td>4.402777</td>\n",
       "      <td>4.402777</td>\n",
       "      <td>4.402777</td>\n",
       "      <td>4.402777</td>\n",
       "      <td>4.402777</td>\n",
       "    </tr>\n",
       "    <tr>\n",
       "      <th>S3</th>\n",
       "      <td>7.851483</td>\n",
       "      <td>4.402777</td>\n",
       "      <td>5.894139</td>\n",
       "      <td>5.017464</td>\n",
       "      <td>4.402777</td>\n",
       "      <td>6.938888</td>\n",
       "      <td>6.771460</td>\n",
       "      <td>11.077264</td>\n",
       "      <td>6.142056</td>\n",
       "      <td>8.692579</td>\n",
       "      <td>...</td>\n",
       "      <td>4.402777</td>\n",
       "      <td>4.402777</td>\n",
       "      <td>4.402777</td>\n",
       "      <td>4.402777</td>\n",
       "      <td>4.402777</td>\n",
       "      <td>4.402777</td>\n",
       "      <td>4.402777</td>\n",
       "      <td>4.402777</td>\n",
       "      <td>4.402777</td>\n",
       "      <td>4.402777</td>\n",
       "    </tr>\n",
       "    <tr>\n",
       "      <th>S4</th>\n",
       "      <td>9.427284</td>\n",
       "      <td>4.402777</td>\n",
       "      <td>5.530200</td>\n",
       "      <td>5.126493</td>\n",
       "      <td>4.402777</td>\n",
       "      <td>7.057035</td>\n",
       "      <td>7.086915</td>\n",
       "      <td>14.050733</td>\n",
       "      <td>5.961195</td>\n",
       "      <td>8.279990</td>\n",
       "      <td>...</td>\n",
       "      <td>4.402777</td>\n",
       "      <td>4.402777</td>\n",
       "      <td>4.402777</td>\n",
       "      <td>4.402777</td>\n",
       "      <td>4.402777</td>\n",
       "      <td>4.402777</td>\n",
       "      <td>4.402777</td>\n",
       "      <td>4.402777</td>\n",
       "      <td>4.402777</td>\n",
       "      <td>4.402777</td>\n",
       "    </tr>\n",
       "    <tr>\n",
       "      <th>S5</th>\n",
       "      <td>8.484089</td>\n",
       "      <td>4.402777</td>\n",
       "      <td>5.953490</td>\n",
       "      <td>5.137191</td>\n",
       "      <td>4.402777</td>\n",
       "      <td>7.621014</td>\n",
       "      <td>6.869015</td>\n",
       "      <td>13.834583</td>\n",
       "      <td>6.011059</td>\n",
       "      <td>8.713771</td>\n",
       "      <td>...</td>\n",
       "      <td>4.402777</td>\n",
       "      <td>4.402777</td>\n",
       "      <td>4.402777</td>\n",
       "      <td>4.402777</td>\n",
       "      <td>4.402777</td>\n",
       "      <td>4.402777</td>\n",
       "      <td>4.402777</td>\n",
       "      <td>4.402777</td>\n",
       "      <td>4.402777</td>\n",
       "      <td>4.402777</td>\n",
       "    </tr>\n",
       "  </tbody>\n",
       "</table>\n",
       "<p>5 rows × 22411 columns</p>\n",
       "</div>"
      ],
      "text/plain": [
       "symbol     Gnai3      Pbsn     Cdc45     Scml2      Apoh      Narf      Cav2  \\\n",
       "S1      7.985282  4.402777  5.342660  4.720995  4.402777  6.996224  6.746448   \n",
       "S2      8.654102  4.402777  5.621617  5.129361  4.402777  7.205572  6.653430   \n",
       "S3      7.851483  4.402777  5.894139  5.017464  4.402777  6.938888  6.771460   \n",
       "S4      9.427284  4.402777  5.530200  5.126493  4.402777  7.057035  7.086915   \n",
       "S5      8.484089  4.402777  5.953490  5.137191  4.402777  7.621014  6.869015   \n",
       "\n",
       "symbol       Klf6     Scmh1     Cox5a    ...        Usp39    Pcdha4    Pcdha7  \\\n",
       "S1      11.632144  6.152779  8.335453    ...     4.402777  4.402777  4.402777   \n",
       "S2      11.641439  6.020570  8.370482    ...     4.402777  4.402777  4.402777   \n",
       "S3      11.077264  6.142056  8.692579    ...     4.402777  4.402777  4.402777   \n",
       "S4      14.050733  5.961195  8.279990    ...     4.402777  4.402777  4.402777   \n",
       "S5      13.834583  6.011059  8.713771    ...     4.402777  4.402777  4.402777   \n",
       "\n",
       "symbol  LOC105243855   Gm34240   Pcdhga3   Gm20750  4932431L22Rik      Rhbg  \\\n",
       "S1          4.402777  4.402777  4.720995  4.402777       4.402777  4.402777   \n",
       "S2          4.402777  4.402777  4.402777  4.402777       4.402777  4.402777   \n",
       "S3          4.402777  4.402777  4.402777  4.402777       4.402777  4.402777   \n",
       "S4          4.402777  4.402777  4.402777  4.402777       4.402777  4.402777   \n",
       "S5          4.402777  4.402777  4.402777  4.402777       4.402777  4.402777   \n",
       "\n",
       "symbol     Mat2a  \n",
       "S1      4.402777  \n",
       "S2      4.402777  \n",
       "S3      4.402777  \n",
       "S4      4.402777  \n",
       "S5      4.402777  \n",
       "\n",
       "[5 rows x 22411 columns]"
      ]
     },
     "execution_count": 87,
     "metadata": {},
     "output_type": "execute_result"
    }
   ],
   "source": [
    "# clustering operations cannot be performed directly on this data directly,it needs to be processed\n",
    "df_species = df.drop(['entrez'],axis=1).set_index('symbol').transpose()\n",
    "df_species.head()"
   ]
  },
  {
   "cell_type": "markdown",
   "metadata": {},
   "source": [
    "# KMeans"
   ]
  },
  {
   "cell_type": "code",
   "execution_count": 88,
   "metadata": {
    "collapsed": false
   },
   "outputs": [],
   "source": [
    "# creating clusters with kmeans\n",
    "def kmeans(x,clusters):\n",
    "    km = KMeans(n_clusters=clusters,algorithm='elkan').fit(x)\n",
    "    return km.labels_,km.cluster_centers_\n",
    "\n",
    "# visualising clusters after PCA and scaling on data\n",
    "def plot_clusters_withPCA(clusters,x,labels,cls_center=None):\n",
    "    pca = PCA(n_components=2)\n",
    "    x = pca.fit_transform(x)\n",
    "    colors = ['b','g','r','y','c','k','m',(0.5,0.1,0.3),'0.44']#cm.rainbow(np.linspace(0, 1,clusters))\n",
    "    for i in range(clusters):\n",
    "        ds = x[np.where(labels==i)]\n",
    "        plt.scatter(ds[:,0],ds[:,1],color=colors[i])\n",
    "    plt.title(\"{}clusters after PCA\".format(clusters))\n",
    "    plt.show()\n",
    "    return\n",
    "\n",
    "# printing similar species\n",
    "def SimilarSpecies(labels,df):\n",
    "    symbol = list(df.index)\n",
    "    for label in set(labels):\n",
    "        print \"group of similar species-{}\".format(label)\n",
    "        for ind in range(30):\n",
    "            if labels[ind]==label:\n",
    "                print symbol[ind],\n",
    "        print \n",
    "    return   "
   ]
  },
  {
   "cell_type": "markdown",
   "metadata": {},
   "source": [
    "### Elbow Method\n",
    "Elbow method tries to find clustering step or value of k where the cost function decreases abruptly. This produces an \"elbow effect\" in the graph"
   ]
  },
  {
   "cell_type": "code",
   "execution_count": 89,
   "metadata": {
    "collapsed": true
   },
   "outputs": [],
   "source": [
    "# calculates cost function\n",
    "def CostFunction(clus_centres,x,labels):\n",
    "    cost = 0.0\n",
    "    for label,value in zip(labels,x):\n",
    "        cost = cost + pow(sum(clus_centres[label]-value)**2,0.5)\n",
    "    return cost/len(x)\n",
    "\n",
    "# plot graph for testing elbow method\n",
    "def Cluster_Analysis(x,iterations=15):\n",
    "    costJ = np.array([0]*(iterations))\n",
    "    for i in range(1,iterations+1):\n",
    "        print \"wait\",i\n",
    "        labels,clus_centres = kmeans(x,i)\n",
    "        costJ[i-1] = CostFunction(clus_centres,x,labels)\n",
    "    plt.figure(figsize=(25,10))\n",
    "    plt.title(\"Elbow Method\")\n",
    "    plt.xlabel(\"number of clusters\")\n",
    "    plt.ylabel(\"J(Cost Function)\")\n",
    "    plt.plot(range(1,1+iterations),costJ)\n",
    "    plt.show()\n",
    "    return"
   ]
  },
  {
   "cell_type": "code",
   "execution_count": 90,
   "metadata": {
    "collapsed": false,
    "scrolled": false
   },
   "outputs": [
    {
     "name": "stdout",
     "output_type": "stream",
     "text": [
      "wait 1\n",
      "wait 2\n",
      "wait 3\n",
      "wait 4\n",
      "wait 5\n",
      "wait 6\n",
      "wait 7\n",
      "wait 8\n",
      "wait 9\n",
      "wait 10\n",
      "wait 11\n",
      "wait 12\n",
      "wait 13\n",
      "wait 14\n",
      "wait 15\n"
     ]
    },
    {
     "data": {
      "image/png": "[encoded data removed]",
      "text/plain": [
       "<matplotlib.figure.Figure at 0x7ff0e94ecb90>"
      ]
     },
     "metadata": {},
     "output_type": "display_data"
    }
   ],
   "source": [
    "x = df_species.values\n",
    "pca = PCA(n_components=2)\n",
    "x = pca.fit_transform(scale(x))\n",
    "Cluster_Analysis(x,15)"
   ]
  },
  {
   "cell_type": "markdown",
   "metadata": {},
   "source": [
    "From the above plot of Elbow method it is clear that number of clusters must be 2.But we know that elbow method is \n",
    "a heuristic approach of finding clusters,and one cannot depend on it solely and we have to take possible numbers of clusters and performs some other tests to confirm our heuristic."
   ]
  },
  {
   "cell_type": "markdown",
   "metadata": {},
   "source": [
    "### Silhouette Test"
   ]
  },
  {
   "cell_type": "markdown",
   "metadata": {},
   "source": [
    "Now to determine which of these 2,3,4,5,6 would be best to cluster our data into groups naturally.\n",
    "For that purpose we are going to use Silhouette test."
   ]
  },
  {
   "cell_type": "code",
   "execution_count": 91,
   "metadata": {
    "collapsed": false
   },
   "outputs": [
    {
     "name": "stdout",
     "output_type": "stream",
     "text": [
      "0.326451114456\n",
      "0.286529039486\n",
      "0.217330864677\n",
      "0.258458407208\n",
      "0.260694070562\n"
     ]
    }
   ],
   "source": [
    "x = df_species.values\n",
    "for i in [2,3,4,5,6]:\n",
    "    labels,clus_centres = kmeans(x,i)\n",
    "    print silhouette_score(x,labels)"
   ]
  },
  {
   "cell_type": "markdown",
   "metadata": {},
   "source": [
    "For running multiple times we found tha silhoutte score for 2 is always positive and largest among all,\n",
    "this gives us a proof that among 2,3,4,5,6 only 2 is providing a natural cluster for our dataset."
   ]
  },
  {
   "cell_type": "code",
   "execution_count": 92,
   "metadata": {
    "collapsed": false
   },
   "outputs": [
    {
     "data": {
      "image/png": "[encoded data removed]",
      "text/plain": [
       "<matplotlib.figure.Figure at 0x7ff0e92f0e10>"
      ]
     },
     "metadata": {},
     "output_type": "display_data"
    }
   ],
   "source": [
    "# ploting clusters after PCA \n",
    "x = df_species.values\n",
    "labels,clus_centres = kmeans(x,2)\n",
    "plot_clusters_withPCA(2,x,labels)"
   ]
  },
  {
   "cell_type": "markdown",
   "metadata": {},
   "source": [
    "# TSNE(t-distributed stochastic neighbor embedding)\n",
    "The technique has become widespread in the field of machine learning,as it can from data with hundreds or even thousands of dimensions it can convert into two-dimensonal."
   ]
  },
  {
   "cell_type": "code",
   "execution_count": 93,
   "metadata": {
    "collapsed": true
   },
   "outputs": [],
   "source": [
    "# visualising clusters after using TSNE and scaling on data\n",
    "def plot_clusters_withTSNE(clusters,x,labels,cls_center=None):\n",
    "    x = TSNE(learning_rate=100).fit_transform(x)\n",
    "    colors = ['b','g','r','y','c','k','m',(0.5,0.1,0.3),'0.44']#cm.rainbow(np.linspace(0, 1,clusters))\n",
    "    for i in range(clusters):\n",
    "        ds = x[np.where(labels==i)]\n",
    "        plt.scatter(ds[:,0],ds[:,1],color=colors[i])\n",
    "    plt.title(\"{}clusters after TSNE\".format(clusters))\n",
    "    plt.show()\n",
    "    return "
   ]
  },
  {
   "cell_type": "code",
   "execution_count": 94,
   "metadata": {
    "collapsed": false
   },
   "outputs": [
    {
     "data": {
      "image/png": "[encoded data removed]",
      "text/plain": [
       "<matplotlib.figure.Figure at 0x7ff0e95e0210>"
      ]
     },
     "metadata": {},
     "output_type": "display_data"
    }
   ],
   "source": [
    "plot_clusters_withTSNE(2,x,labels,)"
   ]
  },
  {
   "cell_type": "markdown",
   "metadata": {},
   "source": [
    "### Similarity by KMeans clustering"
   ]
  },
  {
   "cell_type": "code",
   "execution_count": 95,
   "metadata": {
    "collapsed": false
   },
   "outputs": [
    {
     "name": "stdout",
     "output_type": "stream",
     "text": [
      "group of similar species-0\n",
      "S13 S14 S15 S16 S17 S18 S19 S20 S21 S22 S23 S24 S25 S26 S27 S28 S29 S30\n",
      "group of similar species-1\n",
      "S1 S2 S3 S4 S5 S6 S7 S8 S9 S10 S11 S12\n"
     ]
    }
   ],
   "source": [
    "SimilarSpecies(labels,df_species)## printing clusters members/ similar species according kmeans"
   ]
  },
  {
   "cell_type": "markdown",
   "metadata": {},
   "source": [
    "# Hiearchical Clustering Dendrogram\n",
    "In Hiearchical Clustering Dendogram,we starts from each data points as singleton clusters,in each iteration we calculate the distance between two clusters (aka data points initially) and combine clusters in each successive layer having distance within cutoff decided by metric and method used."
   ]
  },
  {
   "cell_type": "markdown",
   "metadata": {},
   "source": [
    "### Linkage Matrix\n",
    "Scipy's linkage function return Linkage matrix.Linkage matrix contains steps of each clusters formed by Hiearchical\n",
    "Clustering Dendrogram."
   ]
  },
  {
   "cell_type": "code",
   "execution_count": 96,
   "metadata": {
    "collapsed": true
   },
   "outputs": [],
   "source": [
    "#### generates linkage matrix \"Z\"\n",
    "x = scale(df_species.values)\n",
    "# pca = PCA(n_components=2)\n",
    "# x = pca.fit_transform(scale(x))\n",
    "Z = linkage(x, 'ward')"
   ]
  },
  {
   "cell_type": "markdown",
   "metadata": {},
   "source": [
    "### Dendrogram\n",
    "A dendrogram is a visualization in form of a tree showing the order and distances of merges during the hierarchical clustering.A dendrogram is made up of many U-shaped lines connecting data in a hiearchical tree, where height of each U represents the distance where two clusters are merged."
   ]
  },
  {
   "cell_type": "code",
   "execution_count": 97,
   "metadata": {
    "collapsed": false
   },
   "outputs": [],
   "source": [
    "def plot_dendrogram(Z,max_d=None):\n",
    "#     plt.figure(figsize=(25,10))\n",
    "    plt.title('Hiearchical Clustering Dendrogram')\n",
    "    plt.xlabel('species')\n",
    "    plt.ylabel('distances')\n",
    "    dendrogram(\n",
    "        Z,\n",
    "        leaf_rotation = 90,\n",
    "        leaf_font_size = 12,\n",
    "    )\n",
    "    if max_d!=None:\n",
    "        plt.axhline(y=max_d, c='k')\n",
    "    plt.show()\n",
    "    return"
   ]
  },
  {
   "cell_type": "code",
   "execution_count": 98,
   "metadata": {
    "collapsed": false
   },
   "outputs": [
    {
     "data": {
      "image/png": "[encoded data removed]",
      "text/plain": [
       "<matplotlib.figure.Figure at 0x7ff0e9320810>"
      ]
     },
     "metadata": {},
     "output_type": "display_data"
    }
   ],
   "source": [
    "# plot dendrogram\n",
    "plot_dendrogram(Z)"
   ]
  },
  {
   "cell_type": "markdown",
   "metadata": {},
   "source": [
    "By looking at the dendrogram,we can say that a total of 7 clusters are there.And\n",
    "180 seems to be good fit for maximum distance above which no merging of clusters takes place."
   ]
  },
  {
   "cell_type": "code",
   "execution_count": 99,
   "metadata": {
    "collapsed": false
   },
   "outputs": [
    {
     "data": {
      "image/png": "[encoded data removed]",
      "text/plain": [
       "<matplotlib.figure.Figure at 0x7ff0e4fb5c50>"
      ]
     },
     "metadata": {},
     "output_type": "display_data"
    }
   ],
   "source": [
    "# plot dendrogram with max_d=180\n",
    "plot_dendrogram(Z,175)"
   ]
  },
  {
   "cell_type": "markdown",
   "metadata": {},
   "source": [
    "### FCluster\n",
    "Scipy's fcluster function creates flat clusters from the hierarchical clustering with help of linkage matrix 'Z' defined earlier.It accepts maximun distance for cluster merging and create clusters therefore."
   ]
  },
  {
   "cell_type": "code",
   "execution_count": 100,
   "metadata": {
    "collapsed": true
   },
   "outputs": [],
   "source": [
    "# finding labels for each data points\n",
    "max_d = 175\n",
    "labels = fcluster(Z,max_d,criterion='distance')"
   ]
  },
  {
   "cell_type": "code",
   "execution_count": 101,
   "metadata": {
    "collapsed": false
   },
   "outputs": [
    {
     "data": {
      "image/png": "[encoded data removed]",
      "text/plain": [
       "<matplotlib.figure.Figure at 0x7ff1243fd610>"
      ]
     },
     "metadata": {},
     "output_type": "display_data"
    }
   ],
   "source": [
    "# plotting clusters after processing it with PCA to 2-D\n",
    "# plt.figure(figsize=(25,10))\n",
    "plot_clusters_withPCA(8,x,labels)\n",
    "plt.show()"
   ]
  },
  {
   "cell_type": "markdown",
   "metadata": {},
   "source": [
    "### similarity by Hiearchical Clustering"
   ]
  },
  {
   "cell_type": "code",
   "execution_count": 102,
   "metadata": {
    "collapsed": false
   },
   "outputs": [
    {
     "name": "stdout",
     "output_type": "stream",
     "text": [
      "group of similar species-1\n",
      "S1 S2 S3\n",
      "group of similar species-2\n",
      "S4 S5 S6 S7 S8 S9\n",
      "group of similar species-3\n",
      "S10 S11 S12\n",
      "group of similar species-4\n",
      "S13 S14 S15\n",
      "group of similar species-5\n",
      "S28 S29 S30\n",
      "group of similar species-6\n",
      "S20 S23 S24 S25 S26 S27\n",
      "group of similar species-7\n",
      "S16 S17 S18 S19 S21\n",
      "group of similar species-8\n",
      "S22\n"
     ]
    }
   ],
   "source": [
    "# printing similar species\n",
    "def SimilarSpecies(labels,df):\n",
    "    symbol = list(df.index)\n",
    "    for label in set(labels):\n",
    "        print \"group of similar species-{}\".format(label)\n",
    "        for ind in range(30):\n",
    "            if labels[ind]==label:\n",
    "                print symbol[ind],\n",
    "        print \n",
    "    return\n",
    "SimilarSpecies(labels,df_species)"
   ]
  },
  {
   "cell_type": "markdown",
   "metadata": {},
   "source": [
    "# Summary\n",
    "Reasons why i preferred Hiearchical Clustering over Kmeans Clustering for our dataset are described below."
   ]
  },
  {
   "cell_type": "markdown",
   "metadata": {},
   "source": [
    "##### About KMeans Clustering"
   ]
  },
  {
   "cell_type": "markdown",
   "metadata": {},
   "source": [
    "**A major problem with KMeans clustering while dealing with high dimensional data is using euclidean distance**\n",
    "Since multiple dimension as in our case are hard to think in,impossible to visualise due to the exponential growth of the number with each dimesion.Thus the concept of distance become less precise or invaluable as the number of dimension increases.Because when number of dimensions reachs infinity distance between any two points converges meaning the maximum and minimum distance between any two points in the dataset remains the same.This condition is known as ** Curse Of Dimensionality **.***If we still want to use KMeans we can change the distance metric with cosine matrics,instead we can also use hiearchical clustering***"
   ]
  },
  {
   "cell_type": "markdown",
   "metadata": {},
   "source": [
    "** KMeans is extremely sensitive to cluster centre initialisation **.Since bad cluster initialisation can lead to poor convergence,bad overall clustering,could struck into local optima."
   ]
  },
  {
   "cell_type": "markdown",
   "metadata": {},
   "source": [
    "** KMeans can struck in local optima.**In our when we use Elbow method to find numbers of clusters for KMeans clustering, we can clearly see from the plot that at number 2 the decrement in cost function was maximum.And this was supported by silhouette test ****(here both elbow method and silhoutte used euclidean distance metric)****."
   ]
  },
  {
   "cell_type": "code",
   "execution_count": 103,
   "metadata": {
    "collapsed": false
   },
   "outputs": [
    {
     "data": {
      "image/png": "[encoded data removed]",
      "text/plain": [
       "<matplotlib.figure.Figure at 0x7ff0e95e0a90>"
      ]
     },
     "metadata": {},
     "output_type": "display_data"
    }
   ],
   "source": [
    "plot_dendrogram(Z,310)"
   ]
  },
  {
   "cell_type": "markdown",
   "metadata": {},
   "source": [
    "Our KMeans find this value of max_id>300 and struck into local optima instead of finding global optima, thus predicting number of clusters to be 2."
   ]
  },
  {
   "cell_type": "code",
   "execution_count": 106,
   "metadata": {
    "collapsed": false
   },
   "outputs": [
    {
     "data": {
      "image/png": "[encoded data removed]",
      "text/plain": [
       "<matplotlib.figure.Figure at 0x7ff0e92f0e10>"
      ]
     },
     "metadata": {},
     "output_type": "display_data"
    }
   ],
   "source": [
    "labels,clus_centres = kmeans(x,2)\n",
    "plot_clusters_withPCA(2,x,labels)"
   ]
  },
  {
   "cell_type": "markdown",
   "metadata": {},
   "source": [
    "***Here we can clearly see that our kmeans only creates clusters with distance greater than 300 and got struck into local optima,with creating only two  big clusters one on each side of the plot.***Though it sheerly ignores other small clusters(identified later) within those two big clusters.SO it is clear we can't really depend on kmeans or elbow method blindly when we donot know much about our dataset i.e. in datatset having dimension of several thousands."
   ]
  },
  {
   "cell_type": "markdown",
   "metadata": {},
   "source": [
    "#### About Hiearchical Clustering"
   ]
  },
  {
   "cell_type": "markdown",
   "metadata": {},
   "source": [
    "I preferred Hiearchical Clustering as *** it doesnot need the number of clusters as input, partitions can be visualised using a tree structure called dendrogram***"
   ]
  },
  {
   "cell_type": "markdown",
   "metadata": {},
   "source": [
    "**It is slow but doesnot struck into local optima and always reach global optima as we can view partitions as different level of merging and can visually select the value of clusters that was naturally present in the dataset**"
   ]
  }
 ],
 "metadata": {
  "kernelspec": {
   "display_name": "Python 2",
   "language": "python",
   "name": "python2"
  },
  "language_info": {
   "codemirror_mode": {
    "name": "ipython",
    "version": 2
   },
   "file_extension": ".py",
   "mimetype": "text/x-python",
   "name": "python",
   "nbconvert_exporter": "python",
   "pygments_lexer": "ipython2",
   "version": "2.7.6"
  }
 },
 "nbformat": 4,
 "nbformat_minor": 2
}
